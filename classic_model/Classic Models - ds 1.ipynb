{
 "cells": [
  {
   "cell_type": "code",
   "execution_count": 2,
   "metadata": {
    "collapsed": false
   },
   "outputs": [],
   "source": [
    "import numpy as np\n",
    "from sklearn.feature_extraction.text import CountVectorizer\n",
    "from sklearn.metrics import accuracy_score\n",
    "import time\n",
    "import json\n",
    "from sklearn.linear_model import LogisticRegression\n",
    "from sklearn.naive_bayes import MultinomialNB\n",
    "from sklearn.datasets import load_svmlight_file"
   ]
  },
  {
   "cell_type": "code",
   "execution_count": 1,
   "metadata": {
    "collapsed": false
   },
   "outputs": [
    {
     "name": "stdout",
     "output_type": "stream",
     "text": [
      "/home/ubuntu/data/amazon/amazon_ngram/amazon_train_ngram_split_1.svml\n"
     ]
    }
   ],
   "source": [
    "path_ = '/home/ubuntu/data/amazon/amazon_ngram/amazon_'\n",
    "gram = '_ngram_split_'\n",
    "dataset =1 \n",
    "in_path= path_ + 'train' + gram +str(dataset) +'.svml'\n",
    "print in_path"
   ]
  },
  {
   "cell_type": "code",
   "execution_count": null,
   "metadata": {
    "collapsed": true
   },
   "outputs": [],
   "source": [
    "def get_data(in_path):\n",
    "    if gram =='_BoW':\n",
    "        nf= 50000\n",
    "    else: \n",
    "        nf = 500000\n",
    "    data =load_svmlight_file(in_path,n_features=nf)\n",
    "    return data[0],data[1]\n",
    "counts,train_y = get_data(in_path)"
   ]
  },
  {
   "cell_type": "code",
   "execution_count": 4,
   "metadata": {
    "collapsed": false
   },
   "outputs": [
    {
     "name": "stdout",
     "output_type": "stream",
     "text": [
      "('dataset', 1)\n"
     ]
    }
   ],
   "source": [
    "in_path_test= path_ + 'test' + gram +str(dataset) +'.svml'\n",
    "test_counts, test_y = get_data(in_path_test)\n",
    "print('dataset', dataset)"
   ]
  },
  {
   "cell_type": "code",
   "execution_count": 6,
   "metadata": {
    "collapsed": false
   },
   "outputs": [
    {
     "name": "stdout",
     "output_type": "stream",
     "text": [
      "('time to train, logistic regression', 1.9777005630731583)\n",
      "('training accuracy', 0.97696055555555561)\n",
      "('Test Accurcy -1', 95.655749999999998)\n",
      "('Test Error -1', 4.3442500000000051)\n"
     ]
    }
   ],
   "source": [
    "#quick logistic regression check\n",
    "tick = time.time()\n",
    "log = LogisticRegression(n_jobs=-1)\n",
    "log.fit(counts,train_y)\n",
    "tock = time.time()\n",
    "print('time to train, logistic regression', (tock-tick)/3600)\n",
    "\n",
    "train_pred= log.predict(counts)\n",
    "print('training accuracy',accuracy_score(train_pred, train_y))\n",
    "test_pred =log.predict(test_counts)\n",
    "\n",
    "test_pred = log.predict(test_counts)\n",
    "print('Test Accurcy -'+str(dataset),accuracy_score(test_pred, test_y)*100)\n",
    "print('Test Error -'+str(dataset),(1-accuracy_score(test_pred, test_y))*100)"
   ]
  },
  {
   "cell_type": "code",
   "execution_count": 5,
   "metadata": {
    "collapsed": false
   },
   "outputs": [
    {
     "name": "stdout",
     "output_type": "stream",
     "text": [
      "('time to train, NB', 0.0015880639023251003)\n",
      "('training accuracy', 0.9157777777777778)\n",
      "('Test Accurcy -1', 91.379999999999995)\n",
      "('Test Error -1', 8.6200000000000045)\n"
     ]
    }
   ],
   "source": [
    "tick = time.time()\n",
    "bay = MultinomialNB()\n",
    "bay.fit(counts,train_y)\n",
    "tock = time.time()\n",
    "print('time to train, NB', (tock-tick)/3600)\n",
    "\n",
    "train_pred= bay.predict(counts)\n",
    "print('training accuracy',accuracy_score(train_pred, train_y))\n",
    "test_pred = bay.predict(test_counts)\n",
    "\n",
    "test_pred = bay.predict(test_counts)\n",
    "print('Test Accurcy -'+str(dataset),(accuracy_score(test_pred, test_y))*100)\n",
    "print('Test Error -'+str(dataset),(1-accuracy_score(test_pred, test_y))*100)"
   ]
  }
 ],
 "metadata": {
  "kernelspec": {
   "display_name": "Python 2",
   "language": "python",
   "name": "python2"
  },
  "language_info": {
   "codemirror_mode": {
    "name": "ipython",
    "version": 2
   },
   "file_extension": ".py",
   "mimetype": "text/x-python",
   "name": "python",
   "nbconvert_exporter": "python",
   "pygments_lexer": "ipython2",
   "version": "2.7.11"
  }
 },
 "nbformat": 4,
 "nbformat_minor": 0
}
