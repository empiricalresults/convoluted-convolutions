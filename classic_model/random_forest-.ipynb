{
 "cells": [
  {
   "cell_type": "code",
   "execution_count": null,
   "metadata": {
    "collapsed": false
   },
   "outputs": [],
   "source": [
    "import numpy as np\n",
    "from sklearn.ensemble import RandomForestClassifier\n",
    "from sklearn.metrics import accuracy_score\n",
    "import time\n",
    "import json\n",
    "from sklearn.datasets import load_svmlight_file"
   ]
  },
  {
   "cell_type": "code",
   "execution_count": null,
   "metadata": {
    "collapsed": false,
    "scrolled": true
   },
   "outputs": [
    {
     "name": "stdout",
     "output_type": "stream",
     "text": [
      "/home/ubuntu/data/amazon/amazon_ngram/amazon_train_ngram_split_1.svml\n"
     ]
    }
   ],
   "source": [
    "path_ = '/home/ubuntu/data/amazon/amazon_ngram/amazon_'\n",
    "gram = '_ngram_split_'\n",
    "dataset =1 \n",
    "in_path= path_ + 'train' + gram +str(dataset) +'.svml'\n",
    "print in_path\n",
    "def get_data(in_path):\n",
    "    if gram =='_BoW':\n",
    "        nf= 50000\n",
    "    else: \n",
    "        nf = 500000\n",
    "    data =load_svmlight_file(in_path,n_features=nf)\n",
    "    return data[0],data[1]\n",
    "counts,train_y = get_data(in_path)\n",
    "in_path_test= path_ + 'test' + gram +str(dataset) +'.svml'\n",
    "test_counts, test_y = get_data(in_path_test)\n",
    "print('dataset', dataset)"
   ]
  },
  {
   "cell_type": "code",
   "execution_count": null,
   "metadata": {
    "collapsed": false
   },
   "outputs": [],
   "source": [
    "tick = time.time()\n",
    "#classifier = RandomForestClassifier(n_estimators=16, n_jobs=-1, max_features=0.2)\n",
    "classifier = RandomForestClassifier(n_estimators=32, min_samples_leaf =5, n_jobs=-1)\n",
    "classifier.fit(counts, train_y)\n",
    "tock = time.time()\n",
    "print('time to train', (tock - tick) / 3600)"
   ]
  },
  {
   "cell_type": "code",
   "execution_count": null,
   "metadata": {
    "collapsed": false
   },
   "outputs": [],
   "source": [
    "train_pred = classifier.predict(counts)\n",
    "test_pred = classifier.predict(test_counts)\n",
    "print(\"train accuracy\", (accuracy_score(train_pred, train_y)*100))\n",
    "print(\"test accuracy\", (accuracy_score(test_pred, test_y)*100))"
   ]
  }
 ],
 "metadata": {
  "kernelspec": {
   "display_name": "Python 2",
   "language": "python",
   "name": "python2"
  },
  "language_info": {
   "codemirror_mode": {
    "name": "ipython",
    "version": 2
   },
   "file_extension": ".py",
   "mimetype": "text/x-python",
   "name": "python",
   "nbconvert_exporter": "python",
   "pygments_lexer": "ipython2",
   "version": "2.7.11"
  }
 },
 "nbformat": 4,
 "nbformat_minor": 0
}
